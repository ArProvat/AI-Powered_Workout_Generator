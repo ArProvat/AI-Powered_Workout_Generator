{
  "nbformat": 4,
  "nbformat_minor": 0,
  "metadata": {
    "colab": {
      "provenance": []
    },
    "kernelspec": {
      "name": "python3",
      "display_name": "Python 3"
    },
    "language_info": {
      "name": "python"
    }
  },
  "cells": [
    {
      "cell_type": "code",
      "execution_count": 1,
      "metadata": {
        "id": "KD7F58DWDe1e"
      },
      "outputs": [],
      "source": [
        "!pip install upstash_redis langchain langchain_redis langchain_community langchain-groq --q"
      ]
    },
    {
      "cell_type": "code",
      "source": [
        "from google.colab import userdata\n",
        "import os\n",
        "GROQ_API_KEY = userdata.get('GROQ_API_KEY').strip()\n",
        "UPSTASH_REDIS_REST_TOKEN = userdata.get('UPSTASH_REDIS')\n",
        "UPSTASH_REDIS_REST_URL=userdata.get('UPSTASH_REDIS_REST_URL')\n",
        "os.environ[\"GROQ_API_KEY\"]=userdata.get('GROQ_API_KEY').strip()"
      ],
      "metadata": {
        "id": "VIzXRX84NanQ"
      },
      "execution_count": 2,
      "outputs": []
    },
    {
      "cell_type": "code",
      "source": [
        "from langchain_community.chat_message_histories import UpstashRedisChatMessageHistory\n",
        "\n",
        "\n",
        "def get_redis_history(session_id:int):\n",
        "  return UpstashRedisChatMessageHistory(\n",
        "    url=UPSTASH_REDIS_REST_URL,\n",
        "    token=UPSTASH_REDIS_REST_TOKEN,\n",
        "    session_id=session_id,\n",
        ")"
      ],
      "metadata": {
        "id": "sL5f3RhyMPE2"
      },
      "execution_count": null,
      "outputs": []
    },
    {
      "cell_type": "code",
      "source": [
        "history=UpstashRedisChatMessageHistory(\n",
        "    url=UPSTASH_REDIS_REST_URL,\n",
        "    token=UPSTASH_REDIS_REST_TOKEN,\n",
        "    session_id='session_id',\n",
        ")\n"
      ],
      "metadata": {
        "id": "yKwrBQtt6I9n"
      },
      "execution_count": null,
      "outputs": []
    },
    {
      "cell_type": "code",
      "source": [
        "from langchain_core.prompts import ChatPromptTemplate ,MessagesPlaceholder\n",
        "from langchain_groq import ChatGroq\n",
        "from pydantic import BaseModel, Field, validator\n",
        "from typing import List\n",
        "\n",
        "llm = ChatGroq(\n",
        "    model='openai/gpt-oss-120b',\n",
        "    temperature=0.3,\n",
        "    reasoning_format=\"parsed\",\n",
        "    max_retries=2,\n",
        ")\n"
      ],
      "metadata": {
        "id": "N1zJUj55SK3A"
      },
      "execution_count": 3,
      "outputs": []
    },
    {
      "cell_type": "code",
      "metadata": {
        "colab": {
          "base_uri": "https://localhost:8080/"
        },
        "id": "9c3dc615",
        "outputId": "549f26b7-a6e7-4fe1-89a2-10ce9d13cc0e"
      },
      "source": [
        "!pip install --upgrade torch torchvision torchaudio transformers --q"
      ],
      "execution_count": null,
      "outputs": [
        {
          "output_type": "stream",
          "name": "stdout",
          "text": [
            "\u001b[2K     \u001b[90m━━━━━━━━━━━━━━━━━━━━━━━━━━━━━━━━━━━━━━━━\u001b[0m \u001b[32m44.0/44.0 kB\u001b[0m \u001b[31m1.8 MB/s\u001b[0m eta \u001b[36m0:00:00\u001b[0m\n",
            "\u001b[2K   \u001b[90m━━━━━━━━━━━━━━━━━━━━━━━━━━━━━━━━━━━━━━━━\u001b[0m \u001b[32m12.0/12.0 MB\u001b[0m \u001b[31m107.2 MB/s\u001b[0m eta \u001b[36m0:00:00\u001b[0m\n",
            "\u001b[?25h"
          ]
        }
      ]
    },
    {
      "cell_type": "code",
      "source": [
        "from langchain.output_parsers import StructuredOutputParser, ResponseSchema\n",
        "from langchain.prompts import ChatPromptTemplate, MessagesPlaceholder\n",
        "\n",
        "response_schemas = [\n",
        "    ResponseSchema(name=\"section\", description=\"Workout section: Warm-up, Main Workout, or Cool-down\"),\n",
        "    ResponseSchema(name=\"exercise\", description=\"Name of the exercise\"),\n",
        "    ResponseSchema(name=\"sets\", description=\"Number of sets (integer or null if not applicable)\"),\n",
        "    ResponseSchema(name=\"reps\", description=\"Number of reps per set (integer or null if not applicable)\"),\n",
        "    ResponseSchema(name=\"duration\", description=\"Duration or time spent on this exercise, e.g., '3 minutes'\"),\n",
        "]\n",
        "\n",
        "output_parser = StructuredOutputParser.from_response_schemas(response_schemas)\n",
        "format_instructions = output_parser.get_format_instructions()\n",
        "\n",
        "print(format_instructions)"
      ],
      "metadata": {
        "colab": {
          "base_uri": "https://localhost:8080/"
        },
        "id": "tPTdbdNzVV9y",
        "outputId": "0c096a8a-0344-41cc-ad6e-019be77b504e"
      },
      "execution_count": null,
      "outputs": [
        {
          "output_type": "stream",
          "name": "stdout",
          "text": [
            "The output should be a markdown code snippet formatted in the following schema, including the leading and trailing \"```json\" and \"```\":\n",
            "\n",
            "```json\n",
            "{\n",
            "\t\"section\": string  // Workout section: Warm-up, Main Workout, or Cool-down\n",
            "\t\"exercise\": string  // Name of the exercise\n",
            "\t\"sets\": string  // Number of sets (integer or null if not applicable)\n",
            "\t\"reps\": string  // Number of reps per set (integer or null if not applicable)\n",
            "\t\"duration\": string  // Duration or time spent on this exercise, e.g., '3 minutes'\n",
            "}\n",
            "```\n"
          ]
        }
      ]
    },
    {
      "cell_type": "code",
      "source": [
        "fitness_prompt = ChatPromptTemplate.from_messages([\n",
        "    (\"system\", f\"\"\"\n",
        "You are an expert world-class fitness coach and motivational trainer.\n",
        "Design personalized daily workouts that are:\n",
        "1. Safe and goal-oriented\n",
        "2. Fit user’s equipment and time\n",
        "3. Progressively challenging over 4 weeks\n",
        "4. Motivational, engaging, and varied\n",
        "\n",
        "Follow structure:\n",
        "- Warm-up (mobility/cardio)\n",
        "- Main workout (mission-specific)\n",
        "- Cool-down (stretching/recovery)\n",
        "\n",
        "Incorporate previous session context from chat history to ensure progression and recovery balance.\n",
        "\n",
        "You must output valid JSON following this schema:\n",
        "{{format_instructions}}\n",
        "\n",
        "Return ONLY the JSON — no explanations or extra text.\n",
        "\"\"\"),\n",
        "\n",
        "MessagesPlaceholder(variable_name=\"history\"),\n",
        "\n",
        "    (\"human\",\"{input}\")\n",
        "])\n"
      ],
      "metadata": {
        "id": "DXal_n_gZzLo"
      },
      "execution_count": 4,
      "outputs": []
    },
    {
      "cell_type": "code",
      "source": [
        "from langchain_core.runnables.history import RunnableWithMessageHistory\n",
        "\n",
        "USER_SESSION_ID = \"test_user_42\"\n",
        "user_inputs = {\n",
        "    \"day\": 1,\n",
        "    \"week\": 1,\n",
        "    \"day_of_week\": \"Monday\",\n",
        "    \"mission\": \"Build lean muscle and increase deadlift 1RM.\",\n",
        "    \"time_commitment\": \"45 minutes\",\n",
        "    \"gear\": \"Dumbbells (medium/heavy), resistance bands\",\n",
        "    \"squad\": \"The Iron Crew (focus on strength and intensity)\"\n",
        "}\n",
        "user_prompt=f\"\"\"\n",
        "Generate a workout for **Day {user_inputs['day']} (Week {user_inputs['week']}, {user_inputs['day_of_week']})**.\n",
        "\n",
        "User Profile:\n",
        "- Goal: {user_inputs['mission']}\n",
        "- Time: {user_inputs['time_commitment']}\n",
        "- Gear: {user_inputs[\"gear\"]}\n",
        "- Squad Type: {user_inputs['squad']}\n",
        "\n",
        "Constraints:\n",
        "1. Fit within time limit\n",
        "2. Use only listed gear\n",
        "3. Focus on goal area\n",
        "4. Include warm-up, main workout, and cool-down\n",
        "5. Be specific with sets/reps/duration\n",
        "6. Adjust intensity by week\n",
        "7. Reference previous plan for balance\n",
        "\n",
        "Return strictly as JSON (array of exercise objects).\n",
        "\"\"\"\n",
        "chain = fitness_prompt | llm\n",
        "\n",
        "workout_chain_with_history = RunnableWithMessageHistory(\n",
        "    chain,\n",
        "    get_session_history=get_redis_history,\n",
        "    input_messages_key=\"input\",\n",
        "    history_messages_key=\"history\"\n",
        ")\n",
        "\n",
        "USER_SESSION_ID = \"test_user_42\"\n",
        "\n",
        "print(f\"Generating workout for session: {USER_SESSION_ID}...\")\n",
        "\n",
        "result = workout_chain_with_history.invoke(\n",
        "    {\"input\":user_prompt,'format_instructions':format_instructions},\n",
        "    config={\"configurable\": {\"session_id\": USER_SESSION_ID}}\n",
        ")\n",
        "\n",
        "print(result)\n"
      ],
      "metadata": {
        "colab": {
          "base_uri": "https://localhost:8080/"
        },
        "id": "Nown-Wj9gmDy",
        "outputId": "485761c8-9836-4625-b4c2-39a4dfb00e6c"
      },
      "execution_count": null,
      "outputs": [
        {
          "output_type": "stream",
          "name": "stdout",
          "text": [
            "Generating workout for session: test_user_42...\n",
            "content='```json\\n[\\n    {\\n        \"section\": \"Warm-up\",\\n        \"exercise\": \"Jump Rope\",\\n        \"sets\": null,\\n        \"reps\": null,\\n        \"duration\": \"5 minutes\"\\n    },\\n    {\\n        \"section\": \"Warm-up\",\\n        \"exercise\": \"Dynamic Mobility (leg swings, hip circles, band dislocates, shoulder pass-throughs)\",\\n        \"sets\": null,\\n        \"reps\": null,\\n        \"duration\": \"5 minutes\"\\n    },\\n    {\\n        \"section\": \"Main Workout\",\\n        \"exercise\": \"Dumbbell Romanian Deadlift\",\\n        \"sets\": \"3\",\\n        \"reps\": \"8\",\\n        \"duration\": \"5 minutes\"\\n    },\\n    {\\n        \"section\": \"Main Workout\",\\n        \"exercise\": \"Goblet Squat\",\\n        \"sets\": \"3\",\\n        \"reps\": \"10\",\\n        \"duration\": \"6 minutes\"\\n    },\\n    {\\n        \"section\": \"Main Workout\",\\n        \"exercise\": \"Single-Arm Dumbbell Row (each side)\",\\n        \"sets\": \"3\",\\n        \"reps\": \"8\",\\n        \"duration\": \"6 minutes\"\\n    },\\n    {\\n        \"section\": \"Main Workout\",\\n        \"exercise\": \"Bulgarian Split Squat (holding dumbbells, each leg)\",\\n        \"sets\": \"3\",\\n        \"reps\": \"8\",\\n        \"duration\": \"6 minutes\"\\n    },\\n    {\\n        \"section\": \"Main Workout\",\\n        \"exercise\": \"Resistance Band Pull-Aparts\",\\n        \"sets\": \"3\",\\n        \"reps\": \"15\",\\n        \"duration\": \"4 minutes\"\\n    },\\n    {\\n        \"section\": \"Main Workout\",\\n        \"exercise\": \"Plank\",\\n        \"sets\": \"3\",\\n        \"reps\": \"45 seconds\",\\n        \"duration\": \"4 minutes\"\\n    },\\n    {\\n        \"section\": \"Cool-down\",\\n        \"exercise\": \"Static Stretching (hamstrings, glutes, lower back, shoulders)\",\\n        \"sets\": null,\\n        \"reps\": null,\\n        \"duration\": \"5 minutes\"\\n    }\\n]\\n```' additional_kwargs={'reasoning_content': 'We need to output JSON array of exercise objects, each with fields: section, exercise, sets, reps, duration. Must be within 45 minutes. Provide warm-up, main workout, cool-down. Use dumbbells and resistance bands. Goal: lean muscle, increase deadlift 1RM. Day 1 Week 1 Monday. Provide progressive plan. Provide sets/reps. Must reference previous plan for balance, but there is no prior plan in chat; we can assume it\\'s first day, but we can mention it\\'s introductory.\\n\\nWe need to output only JSON, no extra text. The JSON should be an array of objects. The schema: each object has \"section\", \"exercise\", \"sets\", \"reps\", \"duration\". For warm-up, sets/reps may be null; we can put null or empty string? Schema says string for sets and reps, integer or null if not applicable. So we can put null for sets/reps where not applicable. Duration always string.\\n\\nWe need to ensure total time ~45 minutes. Let\\'s design:\\n\\nWarm-up: 5 minutes cardio (jump rope), 5 minutes dynamic mobility (leg swings, hip circles, band pull-aparts). Could split into two entries.\\n\\nMain workout: focus on deadlift variation with dumbbells (Dumbbell Romanian deadlift), plus accessory: goblet squat, dumbbell rows, band pull-aparts, Bulgarian split squat, core plank.\\n\\nWe need to allocate time: main workout ~30 minutes.\\n\\nCool-down: 5-7 minutes stretching.\\n\\nLet\\'s calculate sets/reps and approximate time per set (including rest). For 45 min, typical: Warm-up 10 min, main 30 min, cool-down 5 min = 45.\\n\\nMain workout plan:\\n\\n1. Dumbbell Romanian Deadlift – 4 sets x 8 reps – 2 min rest each => approx 4*(8*~3 sec + 2 min) = 4*(24 sec + 120 sec) = 4*144 = 576 sec = 9.6 min.\\n\\n2. Goblet Squat – 3 sets x 10 reps – 90 sec rest => 3*(10*3 sec + 90 sec) = 3*(30+90)=360 sec=6 min.\\n\\n3. Single-Arm Dumbbell Row – 3 sets x 8 reps each side – 90 sec rest => 3*(8*3*2? Actually each side separate? We\\'ll treat as 8 per side, 2 min rest) approx 3*(48 sec + 90 sec)=3*138=414 sec=6.9 min.\\n\\n4. Bulgarian Split Squat (holding dumbbells) – 3 sets x 8 reps each leg – 90 sec rest => similar ~7 min.\\n\\n5. Resistance Band Pull-Aparts – 3 sets x 15 reps – 45 sec rest => 3*(15*2 sec +45)=3*(30+45)=225 sec=3.75 min.\\n\\n6. Plank – 3 sets x 45 sec – 30 sec rest => 3*(45+30)=225 sec=3.75 min.\\n\\nTotal main approx: 9.6+6+6.9+7+3.75+3.75=37 min. Slightly high. Need to trim. Maybe reduce sets or rest.\\n\\nLet\\'s adjust: Use 3 sets for Romanian deadlift (instead of 4). That reduces ~2.4 min. Also reduce rest for some.\\n\\nRe-calc:\\n\\n- Dumbbell RDL: 3x8, 90 sec rest => 3*(24+90)=342 sec=5.7 min.\\n- Goblet Squat: 3x10, 90 sec => 360 sec=6 min.\\n- Single-Arm Row: 3x8 each side, 75 sec rest => 3*(48+75)=369 sec=6.15 min.\\n- Bulgarian Split Squat: 3x8 each leg, 75 sec rest => similar 6.15 min.\\n- Band Pull-Aparts: 3x15, 45 sec => 225 sec=3.75 min.\\n- Plank: 3x45 sec, 30 sec => 225 sec=3.75 min.\\n\\nSum: 5.7+6+6.15+6.15+3.75+3.75=31.5 min. Good.\\n\\nWarm-up: 5 min cardio (jump rope) + 5 min dynamic (band dislocates, leg swings). Represent as two entries.\\n\\nCool-down: 5 min static stretching (hamstring, glutes, lower back, shoulders). One entry.\\n\\nTotal ~41.5 min, within 45.\\n\\nNow produce JSON array.\\n\\nEach object: section: \"Warm-up\", \"Main Workout\", \"Cool-down\". Exercise name. Sets as string integer or null. Reps as string integer or null. Duration as string.\\n\\nFor cardio warm-up: sets null, reps null, duration \"5 minutes\". For dynamic mobility: sets null, reps null, duration \"5 minutes\".\\n\\nMain workout entries with sets and reps.\\n\\nCool-down: sets null, reps null, duration \"5 minutes\".\\n\\nMake sure JSON array syntax: [ { ... }, ... ].\\n\\nLet\\'s craft.\\n\\n'} response_metadata={'token_usage': {'completion_tokens': 1546, 'prompt_tokens': 460, 'total_tokens': 2006, 'completion_time': 3.145495233, 'prompt_time': 0.046293994, 'queue_time': 0.2008708, 'total_time': 3.191789227}, 'model_name': 'openai/gpt-oss-120b', 'system_fingerprint': 'fp_5c888d599f', 'service_tier': 'on_demand', 'finish_reason': 'stop', 'logprobs': None} id='run--f2f657cb-ca8d-4410-b8a1-5af544168a04-0' usage_metadata={'input_tokens': 460, 'output_tokens': 1546, 'total_tokens': 2006}\n"
          ]
        }
      ]
    },
    {
      "cell_type": "code",
      "source": [
        "result.pretty_print()"
      ],
      "metadata": {
        "colab": {
          "base_uri": "https://localhost:8080/"
        },
        "id": "1xn4ptiLE5Ec",
        "outputId": "a159d965-7604-463b-f4ff-bf7a3fad64ba"
      },
      "execution_count": null,
      "outputs": [
        {
          "output_type": "stream",
          "name": "stdout",
          "text": [
            "==================================\u001b[1m Ai Message \u001b[0m==================================\n",
            "\n",
            "```json\n",
            "[\n",
            "    {\n",
            "        \"section\": \"Warm-up\",\n",
            "        \"exercise\": \"Jump Rope\",\n",
            "        \"sets\": null,\n",
            "        \"reps\": null,\n",
            "        \"duration\": \"5 minutes\"\n",
            "    },\n",
            "    {\n",
            "        \"section\": \"Warm-up\",\n",
            "        \"exercise\": \"Dynamic Mobility (leg swings, hip circles, band dislocates, shoulder pass-throughs)\",\n",
            "        \"sets\": null,\n",
            "        \"reps\": null,\n",
            "        \"duration\": \"5 minutes\"\n",
            "    },\n",
            "    {\n",
            "        \"section\": \"Main Workout\",\n",
            "        \"exercise\": \"Dumbbell Romanian Deadlift\",\n",
            "        \"sets\": \"3\",\n",
            "        \"reps\": \"8\",\n",
            "        \"duration\": \"5 minutes\"\n",
            "    },\n",
            "    {\n",
            "        \"section\": \"Main Workout\",\n",
            "        \"exercise\": \"Goblet Squat\",\n",
            "        \"sets\": \"3\",\n",
            "        \"reps\": \"10\",\n",
            "        \"duration\": \"6 minutes\"\n",
            "    },\n",
            "    {\n",
            "        \"section\": \"Main Workout\",\n",
            "        \"exercise\": \"Single-Arm Dumbbell Row (each side)\",\n",
            "        \"sets\": \"3\",\n",
            "        \"reps\": \"8\",\n",
            "        \"duration\": \"6 minutes\"\n",
            "    },\n",
            "    {\n",
            "        \"section\": \"Main Workout\",\n",
            "        \"exercise\": \"Bulgarian Split Squat (holding dumbbells, each leg)\",\n",
            "        \"sets\": \"3\",\n",
            "        \"reps\": \"8\",\n",
            "        \"duration\": \"6 minutes\"\n",
            "    },\n",
            "    {\n",
            "        \"section\": \"Main Workout\",\n",
            "        \"exercise\": \"Resistance Band Pull-Aparts\",\n",
            "        \"sets\": \"3\",\n",
            "        \"reps\": \"15\",\n",
            "        \"duration\": \"4 minutes\"\n",
            "    },\n",
            "    {\n",
            "        \"section\": \"Main Workout\",\n",
            "        \"exercise\": \"Plank\",\n",
            "        \"sets\": \"3\",\n",
            "        \"reps\": \"45 seconds\",\n",
            "        \"duration\": \"4 minutes\"\n",
            "    },\n",
            "    {\n",
            "        \"section\": \"Cool-down\",\n",
            "        \"exercise\": \"Static Stretching (hamstrings, glutes, lower back, shoulders)\",\n",
            "        \"sets\": null,\n",
            "        \"reps\": null,\n",
            "        \"duration\": \"5 minutes\"\n",
            "    }\n",
            "]\n",
            "```\n"
          ]
        }
      ]
    },
    {
      "cell_type": "code",
      "source": [
        "from langchain_core.output_parsers import StrOutputParser\n",
        "def genarate_motivation(user_inputs):\n",
        "  prompt = f\"\"\"Generate a short, powerful motivational message (max 2 sentences) for day {user_inputs['day']} of a workout plan.\n",
        "\n",
        "User Profile:\n",
        "- Mission: {user_inputs['mission']}\n",
        "- Squad: {user_inputs['squad']}\n",
        "- Time: {user_inputs['time_commitment']}\n",
        "\n",
        "The message should:\n",
        "- Be inspiring and energetic\n",
        "- Reference their squad identity ({user_inputs['squad']})\n",
        "- Connect to their mission ({user_inputs['mission']})\n",
        "- Be unique and not repetitive\n",
        "\n",
        "Return ONLY the motivational message, nothing else.\"\"\"\n",
        "  format_instuction=\"\"\"\n",
        "Return ONLY the motivational message, nothing else.\n",
        "\"\"\"\n",
        "  motivation_chain= fitness_prompt | llm | StrOutputParser()\n",
        "  motivation_messaage=motivation_chain.invoke({\"input\":prompt,'format_instructions':format_instuction ,'history':[]})\n",
        "\n",
        "  return motivation_messaage"
      ],
      "metadata": {
        "id": "RqG1UlcQJ_eZ"
      },
      "execution_count": 13,
      "outputs": []
    },
    {
      "cell_type": "code",
      "source": [
        "user_inputs = {\n",
        "    \"day\": 1,\n",
        "    \"mission\": \"Build lean muscle and increase deadlift 1RM.\",\n",
        "    \"time_commitment\": \"45 minutes\",\n",
        "    \"gear\": \"Dumbbells (medium/heavy), resistance bands\",\n",
        "    \"squad\": \"The Iron Crew (focus on strength and intensity)\"\n",
        "}\n",
        "\n",
        "result = genarate_motivation(user_inputs)\n",
        "print(result)"
      ],
      "metadata": {
        "colab": {
          "base_uri": "https://localhost:8080/"
        },
        "id": "IYgacRTDMPOu",
        "outputId": "a4b078ed-80ec-43a5-b468-efe6032a154c"
      },
      "execution_count": 14,
      "outputs": [
        {
          "output_type": "stream",
          "name": "stdout",
          "text": [
            "{\n",
            "  \"motivational_message\": \"Rise, Iron Crew—today we forge lean muscle and crank that deadlift 1RM higher than ever! Let every rep roar with strength and intensity.\"\n",
            "}\n"
          ]
        }
      ]
    }
  ]
}